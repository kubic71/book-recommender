{
 "cells": [
  {
   "cell_type": "code",
   "execution_count": 260,
   "metadata": {},
   "outputs": [],
   "source": [
    "import numpy as np\n",
    "import pandas as pd\n",
    "import matplotlib.pyplot as plt\n",
    "import seaborn as sns\n",
    "import random\n",
    "import ipywidgets as widgets\n",
    "from IPython.display import display, clear_output"
   ]
  },
  {
   "cell_type": "code",
   "execution_count": 261,
   "metadata": {},
   "outputs": [
    {
     "name": "stdout",
     "output_type": "stream",
     "text": [
      "Loading books...\n"
     ]
    },
    {
     "name": "stderr",
     "output_type": "stream",
     "text": [
      "b'Skipping line 43667: expected 8 fields, saw 10\\n'\n",
      "b'Skipping line 144058: expected 8 fields, saw 9\\nSkipping line 180189: expected 8 fields, saw 9\\n'\n",
      "b'Skipping line 209388: expected 8 fields, saw 9\\nSkipping line 227933: expected 8 fields, saw 10\\nSkipping line 261529: expected 8 fields, saw 9\\n'\n",
      "/tmp/ipykernel_12204/1178397520.py:33: DtypeWarning: Columns (3) have mixed types.Specify dtype option on import or set low_memory=False.\n",
      "  books, users, ratings = load_dataset()\n",
      "b'Skipping line 18758: expected 3 fields, saw 4\\n'\n"
     ]
    },
    {
     "name": "stdout",
     "output_type": "stream",
     "text": [
      "Loading users...\n",
      "Loading ratings...\n",
      "Books dataset rows: 271373\n",
      "Users dataset rows: 278856\n",
      "Ratings dataset rows: 1149780\n"
     ]
    }
   ],
   "source": [
    "def load_dataset():\n",
    "    \"\"\"Extract data for books, ratings and users from csv files, join on ISBN and user ID\"\"\"\n",
    "    books_path = \"dataset/books.csv\"\n",
    "    users_path = \"dataset/users.csv\"\n",
    "    ratings_path = \"dataset/ratings.csv\"\n",
    "\n",
    "    # the .csv file isn't valid, books contain few records with more columns\n",
    "    # we skip them for simplicity\n",
    "\n",
    "    print(\"Loading books...\")\n",
    "    books_df = pd.read_csv(books_path, delimiter=\";\", on_bad_lines=\"warn\")\n",
    "\n",
    "    print(\"Loading users...\")\n",
    "    users_df = pd.read_csv(users_path, delimiter=\";\", on_bad_lines=\"warn\")\n",
    "\n",
    "    print(\"Loading ratings...\")\n",
    "    ratings_df = pd.read_csv(ratings_path, delimiter=\";\", on_bad_lines=\"warn\")\n",
    "\n",
    "\n",
    "    print(f\"Books dataset rows: {len(books_df)}\")\n",
    "    print(f\"Users dataset rows: {len(users_df)}\")\n",
    "    print(f\"Ratings dataset rows: {len(ratings_df)}\")\n",
    "\n",
    "    return books_df, users_df, ratings_df\n",
    "\n",
    "def merge_df(books_df, users_df, ratings_df, how=\"inner\"):\n",
    "    df: pd.DataFrame = pd.merge(users_df, ratings_df, on=\"user_id\", how=how)\n",
    "    df = pd.merge(df, books_df, on=\"ISBN\", how=how)\n",
    "    return df\n",
    "\n",
    "\n",
    "\n",
    "books, users, ratings = load_dataset()\n"
   ]
  },
  {
   "cell_type": "markdown",
   "metadata": {},
   "source": [
    "# Cleaning the data"
   ]
  },
  {
   "cell_type": "markdown",
   "metadata": {},
   "source": [
    "## Users"
   ]
  },
  {
   "cell_type": "code",
   "execution_count": 262,
   "metadata": {},
   "outputs": [
    {
     "name": "stdout",
     "output_type": "stream",
     "text": [
      "<class 'pandas.core.frame.DataFrame'>\n",
      "RangeIndex: 278856 entries, 0 to 278855\n",
      "Data columns (total 3 columns):\n",
      " #   Column    Non-Null Count   Dtype  \n",
      "---  ------    --------------   -----  \n",
      " 0   user_id   278856 non-null  int64  \n",
      " 1   location  278856 non-null  object \n",
      " 2   age       168094 non-null  float64\n",
      "dtypes: float64(1), int64(1), object(1)\n",
      "memory usage: 6.4+ MB\n"
     ]
    }
   ],
   "source": [
    "users.info()"
   ]
  },
  {
   "cell_type": "markdown",
   "metadata": {},
   "source": [
    "### **Age**"
   ]
  },
  {
   "cell_type": "code",
   "execution_count": 263,
   "metadata": {},
   "outputs": [
    {
     "data": {
      "text/plain": [
       "<AxesSubplot:>"
      ]
     },
     "execution_count": 263,
     "metadata": {},
     "output_type": "execute_result"
    },
    {
     "data": {
      "image/png": "[encoded data removed]",
      "text/plain": [
       "<Figure size 432x288 with 1 Axes>"
      ]
     },
     "metadata": {
      "needs_background": "light"
     },
     "output_type": "display_data"
    }
   ],
   "source": [
    "plt.figure()\n",
    "users.loc[(users.age > 90) | (users.age < 5), 'age'] = np.nan\n",
    "users.age = users.age.fillna(users.age.median()).astype(np.int32)\n",
    "users.age.hist(bins=40)\n",
    "\n",
    "# Lot of users are missing valid age"
   ]
  },
  {
   "cell_type": "code",
   "execution_count": 264,
   "metadata": {},
   "outputs": [
    {
     "data": {
      "text/plain": [
       "array(['nyc, new york, usa', 'stockton, california, usa',\n",
       "       'moscow, yukon territory, russia', ...,\n",
       "       'sergnano, lombardia, italy', 'stranraer, n/a, united kingdom',\n",
       "       'tacoma, washington, united kingdom'], dtype=object)"
      ]
     },
     "execution_count": 264,
     "metadata": {},
     "output_type": "execute_result"
    }
   ],
   "source": [
    "## TODO: location info is maybe too specific\n",
    "users.location.unique()"
   ]
  },
  {
   "cell_type": "code",
   "execution_count": 265,
   "metadata": {},
   "outputs": [
    {
     "data": {
      "text/plain": [
       "<AxesSubplot:xlabel='age'>"
      ]
     },
     "execution_count": 265,
     "metadata": {},
     "output_type": "execute_result"
    },
    {
     "data": {
      "image/png": "[encoded data removed]",
      "text/plain": [
       "<Figure size 432x288 with 1 Axes>"
      ]
     },
     "metadata": {
      "needs_background": "light"
     },
     "output_type": "display_data"
    }
   ],
   "source": [
    "plt.figure()\n",
    "sns.boxenplot(x=users.age)"
   ]
  },
  {
   "cell_type": "code",
   "execution_count": 266,
   "metadata": {},
   "outputs": [],
   "source": [
    "# And maybe we also want user-id to be a int32\n",
    "users.user_id = users.user_id.astype(np.int32)"
   ]
  },
  {
   "cell_type": "markdown",
   "metadata": {},
   "source": [
    "### **Location**"
   ]
  },
  {
   "cell_type": "code",
   "execution_count": 267,
   "metadata": {},
   "outputs": [
    {
     "data": {
      "text/html": [
       "<div>\n",
       "<style scoped>\n",
       "    .dataframe tbody tr th:only-of-type {\n",
       "        vertical-align: middle;\n",
       "    }\n",
       "\n",
       "    .dataframe tbody tr th {\n",
       "        vertical-align: top;\n",
       "    }\n",
       "\n",
       "    .dataframe thead th {\n",
       "        text-align: right;\n",
       "    }\n",
       "</style>\n",
       "<table border=\"1\" class=\"dataframe\">\n",
       "  <thead>\n",
       "    <tr style=\"text-align: right;\">\n",
       "      <th></th>\n",
       "      <th>user_id</th>\n",
       "      <th>age</th>\n",
       "      <th>city</th>\n",
       "      <th>state</th>\n",
       "      <th>country</th>\n",
       "    </tr>\n",
       "  </thead>\n",
       "  <tbody>\n",
       "    <tr>\n",
       "      <th>0</th>\n",
       "      <td>1</td>\n",
       "      <td>32</td>\n",
       "      <td>nyc</td>\n",
       "      <td>new york</td>\n",
       "      <td>usa</td>\n",
       "    </tr>\n",
       "    <tr>\n",
       "      <th>1</th>\n",
       "      <td>2</td>\n",
       "      <td>18</td>\n",
       "      <td>stockton</td>\n",
       "      <td>california</td>\n",
       "      <td>usa</td>\n",
       "    </tr>\n",
       "    <tr>\n",
       "      <th>2</th>\n",
       "      <td>3</td>\n",
       "      <td>32</td>\n",
       "      <td>moscow</td>\n",
       "      <td>yukon territory</td>\n",
       "      <td>russia</td>\n",
       "    </tr>\n",
       "    <tr>\n",
       "      <th>3</th>\n",
       "      <td>4</td>\n",
       "      <td>17</td>\n",
       "      <td>porto</td>\n",
       "      <td>v.n.gaia</td>\n",
       "      <td>portugal</td>\n",
       "    </tr>\n",
       "    <tr>\n",
       "      <th>4</th>\n",
       "      <td>5</td>\n",
       "      <td>32</td>\n",
       "      <td>farnborough</td>\n",
       "      <td>hants</td>\n",
       "      <td>united kingdom</td>\n",
       "    </tr>\n",
       "  </tbody>\n",
       "</table>\n",
       "</div>"
      ],
      "text/plain": [
       "   user_id  age         city            state         country\n",
       "0        1   32          nyc         new york             usa\n",
       "1        2   18     stockton       california             usa\n",
       "2        3   32       moscow  yukon territory          russia\n",
       "3        4   17        porto         v.n.gaia        portugal\n",
       "4        5   32  farnborough            hants  united kingdom"
      ]
     },
     "execution_count": 267,
     "metadata": {},
     "output_type": "execute_result"
    }
   ],
   "source": [
    "loc_segments = pd.DataFrame(users.location.str.split(\",\", n=0, expand=True))\n",
    "\n",
    "users[\"city\"] = loc_segments[0].str.strip()\n",
    "users[\"state\"]= loc_segments[1].str.strip()\n",
    "users[\"country\"] = loc_segments[2].str.strip()\n",
    "\n",
    "users.drop(\"location\", inplace=True, axis=1)\n",
    "users.head()"
   ]
  },
  {
   "cell_type": "markdown",
   "metadata": {},
   "source": [
    "#### **Cleaning missing values**"
   ]
  },
  {
   "cell_type": "code",
   "execution_count": 268,
   "metadata": {},
   "outputs": [],
   "source": [
    "# Location field contains many mistakes, we fix some\n",
    "users.loc[users.country.str.len() <= 1, [\"country\"]] = \"n/a\"\n",
    "users.loc[users.state.str.len() <= 1, [\"state\"]] = \"n/a\"\n",
    "users.loc[users.city.str.len() <= 1, [\"city\"]] = \"n/a\"\n",
    "\n",
    "# users.loc[users.country.isnull(), [\"country\"]] = \"n/a\"\n",
    "# users.loc[users.state.isnull(), [\"state\"]] = \"n/a\"\n",
    "# users.loc[users.city.isnull(), [\"city\"]] = \"n/a\"\n",
    "\n",
    "# We could also filter out non-frequent countries/states/cities\n",
    "\n",
    "\n",
    "# users[[\"country\", \"state\", \"city\"]].fillna(\"n/a\")\n",
    "# print(sum(users.country.isnull()))\n",
    "# print(sum(users.state.isnull()))\n",
    "# print(sum(users.city.isnull()))\n",
    "\n",
    "# user_id and age has been handeled\n",
    "# filling only location fields\n",
    "users.fillna(\"n/a\", inplace=True)\n",
    "# users.isnull().sum()"
   ]
  },
  {
   "cell_type": "markdown",
   "metadata": {},
   "source": [
    "## Books"
   ]
  },
  {
   "cell_type": "code",
   "execution_count": 269,
   "metadata": {},
   "outputs": [
    {
     "name": "stdout",
     "output_type": "stream",
     "text": [
      "<class 'pandas.core.frame.DataFrame'>\n",
      "RangeIndex: 271373 entries, 0 to 271372\n",
      "Data columns (total 8 columns):\n",
      " #   Column               Non-Null Count   Dtype \n",
      "---  ------               --------------   ----- \n",
      " 0   ISBN                 271373 non-null  object\n",
      " 1   book_title           271373 non-null  object\n",
      " 2   book_author          271372 non-null  object\n",
      " 3   year_of_publication  271373 non-null  object\n",
      " 4   publisher            271371 non-null  object\n",
      " 5   Image-URL-S          271373 non-null  object\n",
      " 6   Image-URL-M          271373 non-null  object\n",
      " 7   Image-URL-L          271370 non-null  object\n",
      "dtypes: object(8)\n",
      "memory usage: 16.6+ MB\n"
     ]
    }
   ],
   "source": [
    "books.info()"
   ]
  },
  {
   "cell_type": "code",
   "execution_count": 270,
   "metadata": {},
   "outputs": [],
   "source": [
    "# we can drop Image-URLs, because those won't be much helpful in making recommendation decisions\n",
    "books.drop([\"Image-URL-S\", \"Image-URL-M\", \"Image-URL-L\"], axis=1, inplace=True)\n"
   ]
  },
  {
   "cell_type": "markdown",
   "metadata": {},
   "source": [
    "### **Year of publication**"
   ]
  },
  {
   "cell_type": "code",
   "execution_count": 271,
   "metadata": {},
   "outputs": [
    {
     "data": {
      "text/plain": [
       "count     271373\n",
       "unique       202\n",
       "top         2002\n",
       "freq       13901\n",
       "Name: year_of_publication, dtype: int64"
      ]
     },
     "execution_count": 271,
     "metadata": {},
     "output_type": "execute_result"
    }
   ],
   "source": [
    "books.year_of_publication.describe()"
   ]
  },
  {
   "cell_type": "code",
   "execution_count": 272,
   "metadata": {},
   "outputs": [
    {
     "data": {
      "text/plain": [
       "array([2002, 2001, 1991, 1999, 2000, 1993, 1996, 1988, 2004, 1998, 1994,\n",
       "       2003, 1997, 1983, 1979, 1995, 1982, 1985, 1992, 1986, 1978, 1980,\n",
       "       1952, 1987, 1990, 1981, 1989, 1984, 0, 1968, 1961, 1958, 1974,\n",
       "       1976, 1971, 1977, 1975, 1965, 1941, 1970, 1962, 1973, 1972, 1960,\n",
       "       1966, 1920, 1956, 1959, 1953, 1951, 1942, 1963, 1964, 1969, 1954,\n",
       "       1950, 1967, 2005, 1957, 1940, 1937, 1955, 1946, 1936, 1930, 2011,\n",
       "       1925, 1948, 1943, 1947, 1945, 1923, 2020, 1939, 1926, 1938, 2030,\n",
       "       1911, 1904, 1949, 1932, 1928, 1929, 1927, 1931, 1914, 2050, 1934,\n",
       "       1910, 1933, 1902, 1924, 1921, 1900, 2038, 2026, 1944, 1917, 1901,\n",
       "       2010, 1908, 1906, 1935, 1806, 2021, '2002', '2000', '1996', '1992',\n",
       "       '1999', '1995', '2004', '2003', '1990', '1994', '1986', '1989',\n",
       "       '1981', '1993', '1983', '1982', '1976', '1991', '1977', '1998',\n",
       "       '0', '1997', '2001', '1974', '1968', '1987', '1984', '1988',\n",
       "       '1963', '1956', '1970', '1985', '1978', '1973', '1980', '1979',\n",
       "       '1975', '1969', '1961', '1965', '1939', '1958', '1950', '1953',\n",
       "       '1966', '1971', '1959', '1972', '1955', '1957', '1945', '1960',\n",
       "       '1967', '1932', '1924', '1964', '2012', '1911', '1927', '1948',\n",
       "       '1962', '2006', '1952', '1940', '1951', '1931', '1954', '2005',\n",
       "       '1930', '1941', '1944', 'DK Publishing Inc', '1943', '1938',\n",
       "       '1900', '1942', '1923', '1920', '1933', 'Gallimard', '1909',\n",
       "       '1946', '2008', '1378', '2030', '1936', '1947', '2011', '2020',\n",
       "       '1919', '1949', '1922', '1897', '2024', '1376', '1926', '2037'],\n",
       "      dtype=object)"
      ]
     },
     "execution_count": 272,
     "metadata": {},
     "output_type": "execute_result"
    }
   ],
   "source": [
    "# we can see that some year are ints, some strings and there are even non-numeric values (\"DK Publishing Inc\", \"Gallimard\")\n",
    "# there is also a '0' year value\n",
    "books.year_of_publication.unique()"
   ]
  },
  {
   "cell_type": "code",
   "execution_count": 273,
   "metadata": {},
   "outputs": [
    {
     "data": {
      "text/html": [
       "<div>\n",
       "<style scoped>\n",
       "    .dataframe tbody tr th:only-of-type {\n",
       "        vertical-align: middle;\n",
       "    }\n",
       "\n",
       "    .dataframe tbody tr th {\n",
       "        vertical-align: top;\n",
       "    }\n",
       "\n",
       "    .dataframe thead th {\n",
       "        text-align: right;\n",
       "    }\n",
       "</style>\n",
       "<table border=\"1\" class=\"dataframe\">\n",
       "  <thead>\n",
       "    <tr style=\"text-align: right;\">\n",
       "      <th></th>\n",
       "      <th>ISBN</th>\n",
       "      <th>book_title</th>\n",
       "      <th>book_author</th>\n",
       "      <th>year_of_publication</th>\n",
       "      <th>publisher</th>\n",
       "    </tr>\n",
       "  </thead>\n",
       "  <tbody>\n",
       "    <tr>\n",
       "      <th>209546</th>\n",
       "      <td>078946697X</td>\n",
       "      <td>DK Readers: Creating the X-Men, How It All Began (Level 4: Proficient Readers)\\\";Michael Teitelb...</td>\n",
       "      <td>2000</td>\n",
       "      <td>DK Publishing Inc</td>\n",
       "      <td>http://images.amazon.com/images/P/078946697X.01.THUMBZZZ.jpg</td>\n",
       "    </tr>\n",
       "    <tr>\n",
       "      <th>221687</th>\n",
       "      <td>0789466953</td>\n",
       "      <td>DK Readers: Creating the X-Men, How Comic Books Come to Life (Level 4: Proficient Readers)\\\";Jam...</td>\n",
       "      <td>2000</td>\n",
       "      <td>DK Publishing Inc</td>\n",
       "      <td>http://images.amazon.com/images/P/0789466953.01.THUMBZZZ.jpg</td>\n",
       "    </tr>\n",
       "  </tbody>\n",
       "</table>\n",
       "</div>"
      ],
      "text/plain": [
       "              ISBN  \\\n",
       "209546  078946697X   \n",
       "221687  0789466953   \n",
       "\n",
       "                                                                                                 book_title  \\\n",
       "209546  DK Readers: Creating the X-Men, How It All Began (Level 4: Proficient Readers)\\\";Michael Teitelb...   \n",
       "221687  DK Readers: Creating the X-Men, How Comic Books Come to Life (Level 4: Proficient Readers)\\\";Jam...   \n",
       "\n",
       "       book_author year_of_publication  \\\n",
       "209546        2000   DK Publishing Inc   \n",
       "221687        2000   DK Publishing Inc   \n",
       "\n",
       "                                                           publisher  \n",
       "209546  http://images.amazon.com/images/P/078946697X.01.THUMBZZZ.jpg  \n",
       "221687  http://images.amazon.com/images/P/0789466953.01.THUMBZZZ.jpg  "
      ]
     },
     "execution_count": 273,
     "metadata": {},
     "output_type": "execute_result"
    }
   ],
   "source": [
    "books[books.year_of_publication == \"DK Publishing Inc\"]"
   ]
  },
  {
   "cell_type": "code",
   "execution_count": 274,
   "metadata": {},
   "outputs": [
    {
     "data": {
      "text/html": [
       "<div>\n",
       "<style scoped>\n",
       "    .dataframe tbody tr th:only-of-type {\n",
       "        vertical-align: middle;\n",
       "    }\n",
       "\n",
       "    .dataframe tbody tr th {\n",
       "        vertical-align: top;\n",
       "    }\n",
       "\n",
       "    .dataframe thead th {\n",
       "        text-align: right;\n",
       "    }\n",
       "</style>\n",
       "<table border=\"1\" class=\"dataframe\">\n",
       "  <thead>\n",
       "    <tr style=\"text-align: right;\">\n",
       "      <th></th>\n",
       "      <th>ISBN</th>\n",
       "      <th>book_title</th>\n",
       "      <th>book_author</th>\n",
       "      <th>year_of_publication</th>\n",
       "      <th>publisher</th>\n",
       "    </tr>\n",
       "  </thead>\n",
       "  <tbody>\n",
       "    <tr>\n",
       "      <th>220740</th>\n",
       "      <td>2070426769</td>\n",
       "      <td>Peuple du ciel, suivi de 'Les Bergers\\\";Jean-Marie Gustave Le ClÃ?Â©zio\"</td>\n",
       "      <td>2003</td>\n",
       "      <td>Gallimard</td>\n",
       "      <td>http://images.amazon.com/images/P/2070426769.01.THUMBZZZ.jpg</td>\n",
       "    </tr>\n",
       "  </tbody>\n",
       "</table>\n",
       "</div>"
      ],
      "text/plain": [
       "              ISBN  \\\n",
       "220740  2070426769   \n",
       "\n",
       "                                                                      book_title  \\\n",
       "220740  Peuple du ciel, suivi de 'Les Bergers\\\";Jean-Marie Gustave Le ClÃ?Â©zio\"   \n",
       "\n",
       "       book_author year_of_publication  \\\n",
       "220740        2003           Gallimard   \n",
       "\n",
       "                                                           publisher  \n",
       "220740  http://images.amazon.com/images/P/2070426769.01.THUMBZZZ.jpg  "
      ]
     },
     "execution_count": 274,
     "metadata": {},
     "output_type": "execute_result"
    }
   ],
   "source": [
    "books[books.year_of_publication == \"Gallimard\"]"
   ]
  },
  {
   "cell_type": "code",
   "execution_count": 275,
   "metadata": {},
   "outputs": [],
   "source": [
    "# let's just drop those\n",
    "books = books[books.year_of_publication != \"DK Publishing Inc\"]\n",
    "books = books[books.year_of_publication != \"Gallimard\"]\n",
    "\n",
    "\n",
    "# and unify the int and string representations\n",
    "books.year_of_publication = pd.to_numeric(books.year_of_publication)\n",
    "\n",
    "\n",
    "# replace the invalid years with a mean\n",
    "# have to do this in 2 steps, such that the median isn't biased with the books with invalid publication years\n",
    "books.loc[(books.year_of_publication > 2021) | (books.year_of_publication < 1500), \"year_of_publication\"] = np.nan\n",
    "books.year_of_publication = books.year_of_publication.fillna(round(books.year_of_publication.median())).astype(np.int32)"
   ]
  },
  {
   "cell_type": "code",
   "execution_count": 276,
   "metadata": {},
   "outputs": [
    {
     "name": "stderr",
     "output_type": "stream",
     "text": [
      "/home/kubik/work/datasentics_task/venv/lib/python3.9/site-packages/seaborn/_decorators.py:36: FutureWarning: Pass the following variable as a keyword arg: x. From version 0.12, the only valid positional argument will be `data`, and passing other arguments without an explicit keyword will result in an error or misinterpretation.\n",
      "  warnings.warn(\n"
     ]
    },
    {
     "data": {
      "text/plain": [
       "<AxesSubplot:xlabel='year_of_publication'>"
      ]
     },
     "execution_count": 276,
     "metadata": {},
     "output_type": "execute_result"
    },
    {
     "data": {
      "image/png": "[encoded data removed]",
      "text/plain": [
       "<Figure size 432x288 with 1 Axes>"
      ]
     },
     "metadata": {
      "needs_background": "light"
     },
     "output_type": "display_data"
    }
   ],
   "source": [
    "sns.boxenplot(books.year_of_publication)"
   ]
  },
  {
   "cell_type": "markdown",
   "metadata": {},
   "source": [
    "### **Book duplicities**\n",
    "Some book authors and publishers are NaN.\n",
    "\n",
    "Numerical attribute year_of_publication has been dealt with, so we can replace all remaining nulls with \"n/a\""
   ]
  },
  {
   "cell_type": "code",
   "execution_count": 277,
   "metadata": {},
   "outputs": [],
   "source": [
    "books.fillna(\"n/a\", inplace=True)"
   ]
  },
  {
   "cell_type": "markdown",
   "metadata": {},
   "source": [
    "In case there are some capitalization inconsitencies in the data, convert every field to lowercase."
   ]
  },
  {
   "cell_type": "code",
   "execution_count": 278,
   "metadata": {},
   "outputs": [
    {
     "name": "stdout",
     "output_type": "stream",
     "text": [
      "Unique values in the original:\n",
      "ISBN                   271370\n",
      "book_title             242145\n",
      "book_author            102027\n",
      "year_of_publication       107\n",
      "publisher               16806\n",
      "dtype: int64\n",
      "\n",
      "Unique values in the lowercased data:\n",
      "ISBN                   271056\n",
      "book_title             238974\n",
      "book_author             99345\n",
      "year_of_publication       107\n",
      "publisher               16574\n",
      "dtype: int64\n"
     ]
    }
   ],
   "source": [
    "# we must not forget to convert the ratings ISBNs to lowercase as well!\n",
    "\n",
    "print(\"Unique values in the original:\")\n",
    "print(books.nunique())\n",
    "books.ISBN = books.ISBN.str.lower()\n",
    "books.book_title = books.book_title.str.lower()\n",
    "books.book_author = books.book_author.str.lower()\n",
    "books.publisher = books.publisher.str.lower()\n",
    "\n",
    "print(\"\\nUnique values in the lowercased data:\")\n",
    "print(books.nunique())"
   ]
  },
  {
   "cell_type": "markdown",
   "metadata": {},
   "source": [
    "There are over 300 books with duplicit ISBN, so let's drop those."
   ]
  },
  {
   "cell_type": "code",
   "execution_count": 279,
   "metadata": {},
   "outputs": [],
   "source": [
    "# Let's drop ISBN duplicities\n",
    "books.drop_duplicates([\"ISBN\"], inplace=True)\n",
    "\n"
   ]
  },
  {
   "cell_type": "markdown",
   "metadata": {},
   "source": [
    "But even then, huge number of book records share the same duplicit `(book_title, book_author)` pairs.\n",
    "\n",
    "That is mainly because the same book can be re-published and repackaged multiple times with different ISBN under different publishers."
   ]
  },
  {
   "cell_type": "code",
   "execution_count": 280,
   "metadata": {},
   "outputs": [
    {
     "name": "stdout",
     "output_type": "stream",
     "text": [
      "Number of duplicit (book_title, book_author) pairs:\n",
      " 22807\n"
     ]
    }
   ],
   "source": [
    "print(\"Number of duplicit (book_title, book_author) pairs:\\n\", len(books[books[[\"book_title\", \"book_author\"]].duplicated()]))"
   ]
  },
  {
   "cell_type": "markdown",
   "metadata": {},
   "source": [
    "For example, **Angels & demons** by Dan Brown is present in 5 different versions."
   ]
  },
  {
   "cell_type": "code",
   "execution_count": 281,
   "metadata": {},
   "outputs": [
    {
     "data": {
      "text/html": [
       "<div>\n",
       "<style scoped>\n",
       "    .dataframe tbody tr th:only-of-type {\n",
       "        vertical-align: middle;\n",
       "    }\n",
       "\n",
       "    .dataframe tbody tr th {\n",
       "        vertical-align: top;\n",
       "    }\n",
       "\n",
       "    .dataframe thead th {\n",
       "        text-align: right;\n",
       "    }\n",
       "</style>\n",
       "<table border=\"1\" class=\"dataframe\">\n",
       "  <thead>\n",
       "    <tr style=\"text-align: right;\">\n",
       "      <th></th>\n",
       "      <th>ISBN</th>\n",
       "      <th>book_title</th>\n",
       "      <th>book_author</th>\n",
       "      <th>year_of_publication</th>\n",
       "      <th>publisher</th>\n",
       "    </tr>\n",
       "  </thead>\n",
       "  <tbody>\n",
       "    <tr>\n",
       "      <th>118</th>\n",
       "      <td>0671027360</td>\n",
       "      <td>angels &amp; demons</td>\n",
       "      <td>dan brown</td>\n",
       "      <td>2001</td>\n",
       "      <td>pocket star</td>\n",
       "    </tr>\n",
       "    <tr>\n",
       "      <th>239</th>\n",
       "      <td>0743486226</td>\n",
       "      <td>angels &amp; demons</td>\n",
       "      <td>dan brown</td>\n",
       "      <td>2003</td>\n",
       "      <td>atria</td>\n",
       "    </tr>\n",
       "    <tr>\n",
       "      <th>28003</th>\n",
       "      <td>0671027352</td>\n",
       "      <td>angels &amp; demons</td>\n",
       "      <td>dan brown</td>\n",
       "      <td>2000</td>\n",
       "      <td>atria</td>\n",
       "    </tr>\n",
       "    <tr>\n",
       "      <th>36936</th>\n",
       "      <td>0743535774</td>\n",
       "      <td>angels &amp; demons</td>\n",
       "      <td>dan brown</td>\n",
       "      <td>2003</td>\n",
       "      <td>audioworks</td>\n",
       "    </tr>\n",
       "    <tr>\n",
       "      <th>163548</th>\n",
       "      <td>0743535766</td>\n",
       "      <td>angels &amp; demons</td>\n",
       "      <td>dan brown</td>\n",
       "      <td>2003</td>\n",
       "      <td>simon &amp; schuster audio</td>\n",
       "    </tr>\n",
       "  </tbody>\n",
       "</table>\n",
       "</div>"
      ],
      "text/plain": [
       "              ISBN       book_title book_author  year_of_publication  \\\n",
       "118     0671027360  angels & demons   dan brown                 2001   \n",
       "239     0743486226  angels & demons   dan brown                 2003   \n",
       "28003   0671027352  angels & demons   dan brown                 2000   \n",
       "36936   0743535774  angels & demons   dan brown                 2003   \n",
       "163548  0743535766  angels & demons   dan brown                 2003   \n",
       "\n",
       "                     publisher  \n",
       "118                pocket star  \n",
       "239                      atria  \n",
       "28003                    atria  \n",
       "36936               audioworks  \n",
       "163548  simon & schuster audio  "
      ]
     },
     "execution_count": 281,
     "metadata": {},
     "output_type": "execute_result"
    }
   ],
   "source": [
    "books[(books.book_title == \"angels & demons\") & (books.book_author == \"dan brown\")]"
   ]
  },
  {
   "cell_type": "markdown",
   "metadata": {},
   "source": [
    "Furthermore, there other types of duplicities.\n",
    "For example, There are 9 unique `(book_title, book_author)` pairs for **The fellowship of the ring**. So even if we did drop duplicate `(book_title, book_author)` pairs, we wouldn't catch these."
   ]
  },
  {
   "cell_type": "code",
   "execution_count": 282,
   "metadata": {},
   "outputs": [
    {
     "data": {
      "text/html": [
       "<div>\n",
       "<style scoped>\n",
       "    .dataframe tbody tr th:only-of-type {\n",
       "        vertical-align: middle;\n",
       "    }\n",
       "\n",
       "    .dataframe tbody tr th {\n",
       "        vertical-align: top;\n",
       "    }\n",
       "\n",
       "    .dataframe thead th {\n",
       "        text-align: right;\n",
       "    }\n",
       "</style>\n",
       "<table border=\"1\" class=\"dataframe\">\n",
       "  <thead>\n",
       "    <tr style=\"text-align: right;\">\n",
       "      <th></th>\n",
       "      <th>book_title</th>\n",
       "      <th>book_author</th>\n",
       "    </tr>\n",
       "  </thead>\n",
       "  <tbody>\n",
       "    <tr>\n",
       "      <th>1571</th>\n",
       "      <td>the fellowship of the ring (the lord of the rings, part 1)</td>\n",
       "      <td>j.r.r. tolkien</td>\n",
       "    </tr>\n",
       "    <tr>\n",
       "      <th>4514</th>\n",
       "      <td>the fellowship of the ring (lord of the rings (paperback))</td>\n",
       "      <td>j. r. r. tolkien</td>\n",
       "    </tr>\n",
       "    <tr>\n",
       "      <th>6514</th>\n",
       "      <td>the fellowship of the ring</td>\n",
       "      <td>j. r. r. tolkien</td>\n",
       "    </tr>\n",
       "    <tr>\n",
       "      <th>12764</th>\n",
       "      <td>the fellowship of the ring (the lord of the rings, part 1)</td>\n",
       "      <td>j. r. r. tolkien</td>\n",
       "    </tr>\n",
       "    <tr>\n",
       "      <th>55114</th>\n",
       "      <td>the fellowship of the ring: 1st part: the lord of the rings (eflkien, j. r. r. lord of the rings...</td>\n",
       "      <td>j. r. r. tolkien</td>\n",
       "    </tr>\n",
       "    <tr>\n",
       "      <th>144281</th>\n",
       "      <td>the fellowship of the ring: being the first part of the lord of the rings (the lord of the rings...</td>\n",
       "      <td>j. r. r. tolkien</td>\n",
       "    </tr>\n",
       "    <tr>\n",
       "      <th>152920</th>\n",
       "      <td>j.r.r. tolkien's the fellowship of the ring</td>\n",
       "      <td>j. r. r. tolkien</td>\n",
       "    </tr>\n",
       "    <tr>\n",
       "      <th>187904</th>\n",
       "      <td>the fellowship of the ring (the lord of the rings, book 1)</td>\n",
       "      <td>j. r. r. tolkien</td>\n",
       "    </tr>\n",
       "    <tr>\n",
       "      <th>209402</th>\n",
       "      <td>the fellowship of the ring (lord of the rings (paperback))</td>\n",
       "      <td>j.r.r. tolkien</td>\n",
       "    </tr>\n",
       "  </tbody>\n",
       "</table>\n",
       "</div>"
      ],
      "text/plain": [
       "                                                                                                 book_title  \\\n",
       "1571                                             the fellowship of the ring (the lord of the rings, part 1)   \n",
       "4514                                             the fellowship of the ring (lord of the rings (paperback))   \n",
       "6514                                                                             the fellowship of the ring   \n",
       "12764                                            the fellowship of the ring (the lord of the rings, part 1)   \n",
       "55114   the fellowship of the ring: 1st part: the lord of the rings (eflkien, j. r. r. lord of the rings...   \n",
       "144281  the fellowship of the ring: being the first part of the lord of the rings (the lord of the rings...   \n",
       "152920                                                          j.r.r. tolkien's the fellowship of the ring   \n",
       "187904                                           the fellowship of the ring (the lord of the rings, book 1)   \n",
       "209402                                           the fellowship of the ring (lord of the rings (paperback))   \n",
       "\n",
       "             book_author  \n",
       "1571      j.r.r. tolkien  \n",
       "4514    j. r. r. tolkien  \n",
       "6514    j. r. r. tolkien  \n",
       "12764   j. r. r. tolkien  \n",
       "55114   j. r. r. tolkien  \n",
       "144281  j. r. r. tolkien  \n",
       "152920  j. r. r. tolkien  \n",
       "187904  j. r. r. tolkien  \n",
       "209402    j.r.r. tolkien  "
      ]
     },
     "execution_count": 282,
     "metadata": {},
     "output_type": "execute_result"
    }
   ],
   "source": [
    "books[books.book_title.str.contains(\"fellowship of the ring\") & books.book_author.str.contains(\"tolkien\")][[\"book_title\", \"book_author\"]].drop_duplicates()"
   ]
  },
  {
   "cell_type": "markdown",
   "metadata": {},
   "source": [
    "# Ratings"
   ]
  },
  {
   "cell_type": "code",
   "execution_count": 283,
   "metadata": {},
   "outputs": [
    {
     "name": "stdout",
     "output_type": "stream",
     "text": [
      "<class 'pandas.core.frame.DataFrame'>\n",
      "RangeIndex: 1149780 entries, 0 to 1149779\n",
      "Data columns (total 3 columns):\n",
      " #   Column       Non-Null Count    Dtype \n",
      "---  ------       --------------    ----- \n",
      " 0   user_id      1149780 non-null  int64 \n",
      " 1   ISBN         1149780 non-null  object\n",
      " 2   book_rating  1149780 non-null  int64 \n",
      "dtypes: int64(2), object(1)\n",
      "memory usage: 26.3+ MB\n"
     ]
    }
   ],
   "source": [
    "ratings.info()"
   ]
  },
  {
   "cell_type": "markdown",
   "metadata": {},
   "source": [
    "We converted book.ISBN to lowercase, so we must do the same things with the ratings."
   ]
  },
  {
   "cell_type": "code",
   "execution_count": 284,
   "metadata": {},
   "outputs": [],
   "source": [
    "ratings.ISBN = ratings.ISBN.str.lower()\n"
   ]
  },
  {
   "cell_type": "markdown",
   "metadata": {},
   "source": [
    "Ratings dataset containts explicit ratings (1-10) and implicit ratings (0).\n",
    "\n",
    "We will concern ourselves only with the explicitly rated content."
   ]
  },
  {
   "cell_type": "code",
   "execution_count": 285,
   "metadata": {},
   "outputs": [
    {
     "name": "stdout",
     "output_type": "stream",
     "text": [
      "Total number of user ratings: 1149780\n",
      "Explicit ratings: 433671\n",
      "Implicit ratings: 716109\n"
     ]
    }
   ],
   "source": [
    "# drop implicit ratings\n",
    "total_ratings = len(ratings)\n",
    "ratings = ratings[ratings.book_rating != 0]\n",
    "print(\"Total number of user ratings:\", total_ratings)\n",
    "print(\"Explicit ratings:\", len(ratings))\n",
    "print(\"Implicit ratings:\", total_ratings - len(ratings))"
   ]
  },
  {
   "cell_type": "markdown",
   "metadata": {},
   "source": [
    "# Merging the dataset\n",
    "\n",
    "We join the 3 tables into 1 flat one for simplicity."
   ]
  },
  {
   "cell_type": "code",
   "execution_count": 356,
   "metadata": {},
   "outputs": [
    {
     "name": "stdout",
     "output_type": "stream",
     "text": [
      "Unknown users:  3\n",
      "Unknown rated books:  49824\n",
      "Size of the explicit rating dataset 383847\n",
      "Number of users with less than 2 ratings: 45382\n",
      "Number of users with more than 200 ratings: 144\n"
     ]
    }
   ],
   "source": [
    "ratings_users = ratings.merge(users, on=\"user_id\")\n",
    "df = ratings_users.merge(books, on=\"ISBN\")\n",
    "\n",
    "print(\"Unknown users: \", len(ratings) - len(ratings_users))\n",
    "print(\"Unknown rated books: \", len(ratings) - len(df))\n",
    "\n",
    "print(\"Size of the explicit rating dataset\", len(df))\n",
    "\n",
    "ratings_per_user = ratings.groupby([\"user_id\"]).size().reset_index(name=\"n_user_ratings\")\n",
    "print(\"Number of users with less than 2 ratings:\", len(ratings_per_user[ratings_per_user.n_user_ratings < 2]))\n",
    "print(\"Number of users with more than 200 ratings:\", len(ratings_per_user[ratings_per_user.n_user_ratings > 200]))\n",
    "\n",
    "# len(ratings2[ratings2.n_user_ratings > 500])\n",
    "\n",
    "# ratings2[ratings.user_id == 11676].book_author\n",
    "\n",
    "\n",
    "# .plot(kind=\"hist\", bins=60, log=True)"
   ]
  },
  {
   "cell_type": "markdown",
   "metadata": {},
   "source": [
    "# Plots and stuff"
   ]
  },
  {
   "cell_type": "markdown",
   "metadata": {},
   "source": [
    "## User rating distribution\n",
    "Some users rate more, some less"
   ]
  },
  {
   "cell_type": "code",
   "execution_count": null,
   "metadata": {},
   "outputs": [],
   "source": []
  },
  {
   "cell_type": "markdown",
   "metadata": {},
   "source": [
    "There are clearly some outliers"
   ]
  },
  {
   "cell_type": "markdown",
   "metadata": {},
   "source": []
  },
  {
   "cell_type": "code",
   "execution_count": 286,
   "metadata": {},
   "outputs": [
    {
     "data": {
      "text/html": [
       "<div>\n",
       "<style scoped>\n",
       "    .dataframe tbody tr th:only-of-type {\n",
       "        vertical-align: middle;\n",
       "    }\n",
       "\n",
       "    .dataframe tbody tr th {\n",
       "        vertical-align: top;\n",
       "    }\n",
       "\n",
       "    .dataframe thead th {\n",
       "        text-align: right;\n",
       "    }\n",
       "</style>\n",
       "<table border=\"1\" class=\"dataframe\">\n",
       "  <thead>\n",
       "    <tr style=\"text-align: right;\">\n",
       "      <th></th>\n",
       "      <th>ISBN</th>\n",
       "      <th>n_ratings</th>\n",
       "      <th>book_title</th>\n",
       "      <th>book_author</th>\n",
       "      <th>year_of_publication</th>\n",
       "      <th>publisher</th>\n",
       "    </tr>\n",
       "  </thead>\n",
       "  <tbody>\n",
       "    <tr>\n",
       "      <th>0</th>\n",
       "      <td>0316666343</td>\n",
       "      <td>707</td>\n",
       "      <td>the lovely bones: a novel</td>\n",
       "      <td>alice sebold</td>\n",
       "      <td>2002</td>\n",
       "      <td>little, brown</td>\n",
       "    </tr>\n",
       "    <tr>\n",
       "      <th>1</th>\n",
       "      <td>0971880107</td>\n",
       "      <td>581</td>\n",
       "      <td>wild animus</td>\n",
       "      <td>rich shapero</td>\n",
       "      <td>2004</td>\n",
       "      <td>too far</td>\n",
       "    </tr>\n",
       "    <tr>\n",
       "      <th>2</th>\n",
       "      <td>0385504209</td>\n",
       "      <td>487</td>\n",
       "      <td>the da vinci code</td>\n",
       "      <td>dan brown</td>\n",
       "      <td>2003</td>\n",
       "      <td>doubleday</td>\n",
       "    </tr>\n",
       "    <tr>\n",
       "      <th>3</th>\n",
       "      <td>0312195516</td>\n",
       "      <td>383</td>\n",
       "      <td>the red tent (bestselling backlist)</td>\n",
       "      <td>anita diamant</td>\n",
       "      <td>1998</td>\n",
       "      <td>picador usa</td>\n",
       "    </tr>\n",
       "    <tr>\n",
       "      <th>4</th>\n",
       "      <td>0060928336</td>\n",
       "      <td>320</td>\n",
       "      <td>divine secrets of the ya-ya sisterhood: a novel</td>\n",
       "      <td>rebecca wells</td>\n",
       "      <td>1997</td>\n",
       "      <td>perennial</td>\n",
       "    </tr>\n",
       "    <tr>\n",
       "      <th>5</th>\n",
       "      <td>059035342x</td>\n",
       "      <td>315</td>\n",
       "      <td>harry potter and the sorcerer's stone (harry potter (paperback))</td>\n",
       "      <td>j. k. rowling</td>\n",
       "      <td>1999</td>\n",
       "      <td>arthur a. levine books</td>\n",
       "    </tr>\n",
       "    <tr>\n",
       "      <th>6</th>\n",
       "      <td>0142001740</td>\n",
       "      <td>307</td>\n",
       "      <td>the secret life of bees</td>\n",
       "      <td>sue monk kidd</td>\n",
       "      <td>2003</td>\n",
       "      <td>penguin books</td>\n",
       "    </tr>\n",
       "    <tr>\n",
       "      <th>7</th>\n",
       "      <td>0446672211</td>\n",
       "      <td>295</td>\n",
       "      <td>where the heart is (oprah's book club (paperback))</td>\n",
       "      <td>billie letts</td>\n",
       "      <td>1998</td>\n",
       "      <td>warner books</td>\n",
       "    </tr>\n",
       "    <tr>\n",
       "      <th>8</th>\n",
       "      <td>044023722x</td>\n",
       "      <td>282</td>\n",
       "      <td>a painted house</td>\n",
       "      <td>john grisham</td>\n",
       "      <td>2001</td>\n",
       "      <td>dell publishing company</td>\n",
       "    </tr>\n",
       "    <tr>\n",
       "      <th>9</th>\n",
       "      <td>0452282152</td>\n",
       "      <td>278</td>\n",
       "      <td>girl with a pearl earring</td>\n",
       "      <td>tracy chevalier</td>\n",
       "      <td>2001</td>\n",
       "      <td>plume books</td>\n",
       "    </tr>\n",
       "    <tr>\n",
       "      <th>10</th>\n",
       "      <td>0316601950</td>\n",
       "      <td>272</td>\n",
       "      <td>the pilot's wife : a novel</td>\n",
       "      <td>anita shreve</td>\n",
       "      <td>1999</td>\n",
       "      <td>back bay books</td>\n",
       "    </tr>\n",
       "    <tr>\n",
       "      <th>11</th>\n",
       "      <td>0671027360</td>\n",
       "      <td>269</td>\n",
       "      <td>angels &amp; demons</td>\n",
       "      <td>dan brown</td>\n",
       "      <td>2001</td>\n",
       "      <td>pocket star</td>\n",
       "    </tr>\n",
       "    <tr>\n",
       "      <th>12</th>\n",
       "      <td>067976402x</td>\n",
       "      <td>257</td>\n",
       "      <td>snow falling on cedars</td>\n",
       "      <td>david guterson</td>\n",
       "      <td>1995</td>\n",
       "      <td>vintage books usa</td>\n",
       "    </tr>\n",
       "    <tr>\n",
       "      <th>13</th>\n",
       "      <td>0316769487</td>\n",
       "      <td>243</td>\n",
       "      <td>the catcher in the rye</td>\n",
       "      <td>j.d. salinger</td>\n",
       "      <td>1991</td>\n",
       "      <td>little, brown</td>\n",
       "    </tr>\n",
       "    <tr>\n",
       "      <th>14</th>\n",
       "      <td>0786868716</td>\n",
       "      <td>242</td>\n",
       "      <td>the five people you meet in heaven</td>\n",
       "      <td>mitch albom</td>\n",
       "      <td>2003</td>\n",
       "      <td>hyperion</td>\n",
       "    </tr>\n",
       "    <tr>\n",
       "      <th>15</th>\n",
       "      <td>0743418174</td>\n",
       "      <td>236</td>\n",
       "      <td>good in bed</td>\n",
       "      <td>jennifer weiner</td>\n",
       "      <td>2002</td>\n",
       "      <td>washington square press</td>\n",
       "    </tr>\n",
       "    <tr>\n",
       "      <th>16</th>\n",
       "      <td>0345337662</td>\n",
       "      <td>230</td>\n",
       "      <td>interview with the vampire</td>\n",
       "      <td>anne rice</td>\n",
       "      <td>1993</td>\n",
       "      <td>ballantine books</td>\n",
       "    </tr>\n",
       "    <tr>\n",
       "      <th>17</th>\n",
       "      <td>0375727345</td>\n",
       "      <td>229</td>\n",
       "      <td>house of sand and fog</td>\n",
       "      <td>andre dubus iii</td>\n",
       "      <td>2000</td>\n",
       "      <td>vintage books</td>\n",
       "    </tr>\n",
       "    <tr>\n",
       "      <th>18</th>\n",
       "      <td>0156027321</td>\n",
       "      <td>226</td>\n",
       "      <td>life of pi</td>\n",
       "      <td>yann martel</td>\n",
       "      <td>2003</td>\n",
       "      <td>harvest books</td>\n",
       "    </tr>\n",
       "    <tr>\n",
       "      <th>19</th>\n",
       "      <td>0312278586</td>\n",
       "      <td>226</td>\n",
       "      <td>the nanny diaries: a novel</td>\n",
       "      <td>emma mclaughlin</td>\n",
       "      <td>2002</td>\n",
       "      <td>st. martin's press</td>\n",
       "    </tr>\n",
       "    <tr>\n",
       "      <th>20</th>\n",
       "      <td>0060930535</td>\n",
       "      <td>218</td>\n",
       "      <td>the poisonwood bible: a novel</td>\n",
       "      <td>barbara kingsolver</td>\n",
       "      <td>1999</td>\n",
       "      <td>perennial</td>\n",
       "    </tr>\n",
       "    <tr>\n",
       "      <th>21</th>\n",
       "      <td>0671021001</td>\n",
       "      <td>217</td>\n",
       "      <td>she's come undone (oprah's book club)</td>\n",
       "      <td>wally lamb</td>\n",
       "      <td>1998</td>\n",
       "      <td>pocket</td>\n",
       "    </tr>\n",
       "    <tr>\n",
       "      <th>22</th>\n",
       "      <td>0440226430</td>\n",
       "      <td>214</td>\n",
       "      <td>summer sisters</td>\n",
       "      <td>judy blume</td>\n",
       "      <td>1999</td>\n",
       "      <td>dell publishing company</td>\n",
       "    </tr>\n",
       "    <tr>\n",
       "      <th>23</th>\n",
       "      <td>0446310786</td>\n",
       "      <td>214</td>\n",
       "      <td>to kill a mockingbird</td>\n",
       "      <td>harper lee</td>\n",
       "      <td>1988</td>\n",
       "      <td>little brown &amp; company</td>\n",
       "    </tr>\n",
       "    <tr>\n",
       "      <th>24</th>\n",
       "      <td>044021145x</td>\n",
       "      <td>210</td>\n",
       "      <td>the firm</td>\n",
       "      <td>john grisham</td>\n",
       "      <td>1992</td>\n",
       "      <td>bantam dell publishing group</td>\n",
       "    </tr>\n",
       "    <tr>\n",
       "      <th>25</th>\n",
       "      <td>043935806x</td>\n",
       "      <td>207</td>\n",
       "      <td>harry potter and the order of the phoenix (book 5)</td>\n",
       "      <td>j. k. rowling</td>\n",
       "      <td>2003</td>\n",
       "      <td>scholastic</td>\n",
       "    </tr>\n",
       "    <tr>\n",
       "      <th>26</th>\n",
       "      <td>0671003755</td>\n",
       "      <td>207</td>\n",
       "      <td>she's come undone (oprah's book club (paperback))</td>\n",
       "      <td>wally lamb</td>\n",
       "      <td>1996</td>\n",
       "      <td>washington square press</td>\n",
       "    </tr>\n",
       "    <tr>\n",
       "      <th>27</th>\n",
       "      <td>0446605239</td>\n",
       "      <td>206</td>\n",
       "      <td>the notebook</td>\n",
       "      <td>nicholas sparks</td>\n",
       "      <td>1998</td>\n",
       "      <td>warner books</td>\n",
       "    </tr>\n",
       "    <tr>\n",
       "      <th>28</th>\n",
       "      <td>0345370775</td>\n",
       "      <td>200</td>\n",
       "      <td>jurassic park</td>\n",
       "      <td>michael crichton</td>\n",
       "      <td>1999</td>\n",
       "      <td>ballantine books</td>\n",
       "    </tr>\n",
       "  </tbody>\n",
       "</table>\n",
       "</div>"
      ],
      "text/plain": [
       "          ISBN  n_ratings  \\\n",
       "0   0316666343        707   \n",
       "1   0971880107        581   \n",
       "2   0385504209        487   \n",
       "3   0312195516        383   \n",
       "4   0060928336        320   \n",
       "5   059035342x        315   \n",
       "6   0142001740        307   \n",
       "7   0446672211        295   \n",
       "8   044023722x        282   \n",
       "9   0452282152        278   \n",
       "10  0316601950        272   \n",
       "11  0671027360        269   \n",
       "12  067976402x        257   \n",
       "13  0316769487        243   \n",
       "14  0786868716        242   \n",
       "15  0743418174        236   \n",
       "16  0345337662        230   \n",
       "17  0375727345        229   \n",
       "18  0156027321        226   \n",
       "19  0312278586        226   \n",
       "20  0060930535        218   \n",
       "21  0671021001        217   \n",
       "22  0440226430        214   \n",
       "23  0446310786        214   \n",
       "24  044021145x        210   \n",
       "25  043935806x        207   \n",
       "26  0671003755        207   \n",
       "27  0446605239        206   \n",
       "28  0345370775        200   \n",
       "\n",
       "                                                          book_title  \\\n",
       "0                                          the lovely bones: a novel   \n",
       "1                                                        wild animus   \n",
       "2                                                  the da vinci code   \n",
       "3                                the red tent (bestselling backlist)   \n",
       "4                    divine secrets of the ya-ya sisterhood: a novel   \n",
       "5   harry potter and the sorcerer's stone (harry potter (paperback))   \n",
       "6                                            the secret life of bees   \n",
       "7                 where the heart is (oprah's book club (paperback))   \n",
       "8                                                    a painted house   \n",
       "9                                          girl with a pearl earring   \n",
       "10                                        the pilot's wife : a novel   \n",
       "11                                                   angels & demons   \n",
       "12                                            snow falling on cedars   \n",
       "13                                            the catcher in the rye   \n",
       "14                                the five people you meet in heaven   \n",
       "15                                                       good in bed   \n",
       "16                                        interview with the vampire   \n",
       "17                                             house of sand and fog   \n",
       "18                                                        life of pi   \n",
       "19                                        the nanny diaries: a novel   \n",
       "20                                     the poisonwood bible: a novel   \n",
       "21                             she's come undone (oprah's book club)   \n",
       "22                                                    summer sisters   \n",
       "23                                             to kill a mockingbird   \n",
       "24                                                          the firm   \n",
       "25                harry potter and the order of the phoenix (book 5)   \n",
       "26                 she's come undone (oprah's book club (paperback))   \n",
       "27                                                      the notebook   \n",
       "28                                                     jurassic park   \n",
       "\n",
       "           book_author  year_of_publication                     publisher  \n",
       "0         alice sebold                 2002                 little, brown  \n",
       "1         rich shapero                 2004                       too far  \n",
       "2            dan brown                 2003                     doubleday  \n",
       "3        anita diamant                 1998                   picador usa  \n",
       "4        rebecca wells                 1997                     perennial  \n",
       "5        j. k. rowling                 1999        arthur a. levine books  \n",
       "6        sue monk kidd                 2003                 penguin books  \n",
       "7         billie letts                 1998                  warner books  \n",
       "8         john grisham                 2001       dell publishing company  \n",
       "9      tracy chevalier                 2001                   plume books  \n",
       "10        anita shreve                 1999                back bay books  \n",
       "11           dan brown                 2001                   pocket star  \n",
       "12      david guterson                 1995             vintage books usa  \n",
       "13       j.d. salinger                 1991                 little, brown  \n",
       "14         mitch albom                 2003                      hyperion  \n",
       "15     jennifer weiner                 2002       washington square press  \n",
       "16           anne rice                 1993              ballantine books  \n",
       "17     andre dubus iii                 2000                 vintage books  \n",
       "18         yann martel                 2003                 harvest books  \n",
       "19     emma mclaughlin                 2002            st. martin's press  \n",
       "20  barbara kingsolver                 1999                     perennial  \n",
       "21          wally lamb                 1998                        pocket  \n",
       "22          judy blume                 1999       dell publishing company  \n",
       "23          harper lee                 1988        little brown & company  \n",
       "24        john grisham                 1992  bantam dell publishing group  \n",
       "25       j. k. rowling                 2003                    scholastic  \n",
       "26          wally lamb                 1996       washington square press  \n",
       "27     nicholas sparks                 1998                  warner books  \n",
       "28    michael crichton                 1999              ballantine books  "
      ]
     },
     "execution_count": 286,
     "metadata": {},
     "output_type": "execute_result"
    }
   ],
   "source": [
    "# ratings.value_counts(subset=[\"ISBN\"])\n",
    "s = ratings.groupby([\"ISBN\"]).size().nlargest(30).reset_index(name=\"n_ratings\")\n",
    "s.merge(books, on=\"ISBN\")\n",
    "# s[s.book_title.str.contains(\"sorcerer's stone\") & s.book_author.str.contains(\"rowling\")]\n",
    "# sns.boxenplot(data=s[s.n_ratings < 100])\n",
    "\n",
    "# gp.hist()\n",
    "# gp.plot()\n",
    "# sns.boxenplot(vc.sort_values())"
   ]
  },
  {
   "cell_type": "code",
   "execution_count": null,
   "metadata": {},
   "outputs": [],
   "source": []
  },
  {
   "cell_type": "code",
   "execution_count": 287,
   "metadata": {},
   "outputs": [
    {
     "data": {
      "text/html": [
       "<div>\n",
       "<style scoped>\n",
       "    .dataframe tbody tr th:only-of-type {\n",
       "        vertical-align: middle;\n",
       "    }\n",
       "\n",
       "    .dataframe tbody tr th {\n",
       "        vertical-align: top;\n",
       "    }\n",
       "\n",
       "    .dataframe thead th {\n",
       "        text-align: right;\n",
       "    }\n",
       "</style>\n",
       "<table border=\"1\" class=\"dataframe\">\n",
       "  <thead>\n",
       "    <tr style=\"text-align: right;\">\n",
       "      <th></th>\n",
       "      <th>ISBN</th>\n",
       "      <th>book_title</th>\n",
       "      <th>book_author</th>\n",
       "      <th>year_of_publication</th>\n",
       "      <th>publisher</th>\n",
       "    </tr>\n",
       "  </thead>\n",
       "  <tbody>\n",
       "    <tr>\n",
       "      <th>1571</th>\n",
       "      <td>0345339703</td>\n",
       "      <td>the fellowship of the ring (the lord of the rings, part 1)</td>\n",
       "      <td>j.r.r. tolkien</td>\n",
       "      <td>1986</td>\n",
       "      <td>del rey</td>\n",
       "    </tr>\n",
       "    <tr>\n",
       "      <th>4514</th>\n",
       "      <td>0395272238</td>\n",
       "      <td>the fellowship of the ring (lord of the rings (paperback))</td>\n",
       "      <td>j. r. r. tolkien</td>\n",
       "      <td>1988</td>\n",
       "      <td>houghton mifflin</td>\n",
       "    </tr>\n",
       "    <tr>\n",
       "      <th>6514</th>\n",
       "      <td>0345272587</td>\n",
       "      <td>the fellowship of the ring</td>\n",
       "      <td>j. r. r. tolkien</td>\n",
       "      <td>1977</td>\n",
       "      <td>not avail</td>\n",
       "    </tr>\n",
       "    <tr>\n",
       "      <th>12764</th>\n",
       "      <td>0618002227</td>\n",
       "      <td>the fellowship of the ring (the lord of the rings, part 1)</td>\n",
       "      <td>j. r. r. tolkien</td>\n",
       "      <td>1999</td>\n",
       "      <td>houghton mifflin company</td>\n",
       "    </tr>\n",
       "    <tr>\n",
       "      <th>15918</th>\n",
       "      <td>0618129030</td>\n",
       "      <td>the fellowship of the ring (the lord of the rings, part 1)</td>\n",
       "      <td>j. r. r. tolkien</td>\n",
       "      <td>2001</td>\n",
       "      <td>houghton mifflin company</td>\n",
       "    </tr>\n",
       "    <tr>\n",
       "      <th>16341</th>\n",
       "      <td>0345296052</td>\n",
       "      <td>the fellowship of the ring (lord of the rings (paperback))</td>\n",
       "      <td>j. r. r. tolkien</td>\n",
       "      <td>1981</td>\n",
       "      <td>ballantine books</td>\n",
       "    </tr>\n",
       "    <tr>\n",
       "      <th>29432</th>\n",
       "      <td>0345253434</td>\n",
       "      <td>the fellowship of the ring</td>\n",
       "      <td>j. r. r. tolkien</td>\n",
       "      <td>1976</td>\n",
       "      <td>not avail</td>\n",
       "    </tr>\n",
       "    <tr>\n",
       "      <th>30095</th>\n",
       "      <td>061826051x</td>\n",
       "      <td>the fellowship of the ring (the lord of the rings, part 1)</td>\n",
       "      <td>j. r. r. tolkien</td>\n",
       "      <td>2002</td>\n",
       "      <td>houghton mifflin company</td>\n",
       "    </tr>\n",
       "    <tr>\n",
       "      <th>40724</th>\n",
       "      <td>0395489318</td>\n",
       "      <td>the fellowship of the ring (the lord of the rings, part 1)</td>\n",
       "      <td>j. r. r. tolkien</td>\n",
       "      <td>1988</td>\n",
       "      <td>houghton mifflin company</td>\n",
       "    </tr>\n",
       "    <tr>\n",
       "      <th>55114</th>\n",
       "      <td>0345332083</td>\n",
       "      <td>the fellowship of the ring: 1st part: the lord of the rings (eflkien, j. r. r. lord of the rings...</td>\n",
       "      <td>j. r. r. tolkien</td>\n",
       "      <td>1985</td>\n",
       "      <td>ballantine books</td>\n",
       "    </tr>\n",
       "    <tr>\n",
       "      <th>118588</th>\n",
       "      <td>0618260269</td>\n",
       "      <td>the fellowship of the ring (the lord of the rings, part 1)</td>\n",
       "      <td>j. r. r. tolkien</td>\n",
       "      <td>2002</td>\n",
       "      <td>houghton mifflin company</td>\n",
       "    </tr>\n",
       "    <tr>\n",
       "      <th>137387</th>\n",
       "      <td>0618346252</td>\n",
       "      <td>the fellowship of the ring (the lord of the rings, part 1)</td>\n",
       "      <td>j. r. r. tolkien</td>\n",
       "      <td>2003</td>\n",
       "      <td>houghton mifflin company</td>\n",
       "    </tr>\n",
       "    <tr>\n",
       "      <th>144281</th>\n",
       "      <td>0395082544</td>\n",
       "      <td>the fellowship of the ring: being the first part of the lord of the rings (the lord of the rings...</td>\n",
       "      <td>j. r. r. tolkien</td>\n",
       "      <td>1967</td>\n",
       "      <td>houghton mifflin co</td>\n",
       "    </tr>\n",
       "    <tr>\n",
       "      <th>152920</th>\n",
       "      <td>0671009710</td>\n",
       "      <td>j.r.r. tolkien's the fellowship of the ring</td>\n",
       "      <td>j. r. r. tolkien</td>\n",
       "      <td>1985</td>\n",
       "      <td>monarch notes</td>\n",
       "    </tr>\n",
       "    <tr>\n",
       "      <th>152938</th>\n",
       "      <td>1565116674</td>\n",
       "      <td>the fellowship of the ring (the lord of the rings, part 1)</td>\n",
       "      <td>j. r. r. tolkien</td>\n",
       "      <td>2002</td>\n",
       "      <td>highbridge audio</td>\n",
       "    </tr>\n",
       "    <tr>\n",
       "      <th>159987</th>\n",
       "      <td>0618153985</td>\n",
       "      <td>the fellowship of the ring (the lord of the rings, part 1)</td>\n",
       "      <td>j.r.r. tolkien</td>\n",
       "      <td>2001</td>\n",
       "      <td>houghton mifflin company</td>\n",
       "    </tr>\n",
       "    <tr>\n",
       "      <th>187904</th>\n",
       "      <td>0788789538</td>\n",
       "      <td>the fellowship of the ring (the lord of the rings, book 1)</td>\n",
       "      <td>j. r. r. tolkien</td>\n",
       "      <td>2000</td>\n",
       "      <td>recorded books</td>\n",
       "    </tr>\n",
       "    <tr>\n",
       "      <th>209402</th>\n",
       "      <td>0808520768</td>\n",
       "      <td>the fellowship of the ring (lord of the rings (paperback))</td>\n",
       "      <td>j.r.r. tolkien</td>\n",
       "      <td>1999</td>\n",
       "      <td>sagebrush bound</td>\n",
       "    </tr>\n",
       "    <tr>\n",
       "      <th>266282</th>\n",
       "      <td>0788789813</td>\n",
       "      <td>the fellowship of the ring (the lord of the rings, book 1)</td>\n",
       "      <td>j. r. r. tolkien</td>\n",
       "      <td>2001</td>\n",
       "      <td>recorded books</td>\n",
       "    </tr>\n",
       "  </tbody>\n",
       "</table>\n",
       "</div>"
      ],
      "text/plain": [
       "              ISBN  \\\n",
       "1571    0345339703   \n",
       "4514    0395272238   \n",
       "6514    0345272587   \n",
       "12764   0618002227   \n",
       "15918   0618129030   \n",
       "16341   0345296052   \n",
       "29432   0345253434   \n",
       "30095   061826051x   \n",
       "40724   0395489318   \n",
       "55114   0345332083   \n",
       "118588  0618260269   \n",
       "137387  0618346252   \n",
       "144281  0395082544   \n",
       "152920  0671009710   \n",
       "152938  1565116674   \n",
       "159987  0618153985   \n",
       "187904  0788789538   \n",
       "209402  0808520768   \n",
       "266282  0788789813   \n",
       "\n",
       "                                                                                                 book_title  \\\n",
       "1571                                             the fellowship of the ring (the lord of the rings, part 1)   \n",
       "4514                                             the fellowship of the ring (lord of the rings (paperback))   \n",
       "6514                                                                             the fellowship of the ring   \n",
       "12764                                            the fellowship of the ring (the lord of the rings, part 1)   \n",
       "15918                                            the fellowship of the ring (the lord of the rings, part 1)   \n",
       "16341                                            the fellowship of the ring (lord of the rings (paperback))   \n",
       "29432                                                                            the fellowship of the ring   \n",
       "30095                                            the fellowship of the ring (the lord of the rings, part 1)   \n",
       "40724                                            the fellowship of the ring (the lord of the rings, part 1)   \n",
       "55114   the fellowship of the ring: 1st part: the lord of the rings (eflkien, j. r. r. lord of the rings...   \n",
       "118588                                           the fellowship of the ring (the lord of the rings, part 1)   \n",
       "137387                                           the fellowship of the ring (the lord of the rings, part 1)   \n",
       "144281  the fellowship of the ring: being the first part of the lord of the rings (the lord of the rings...   \n",
       "152920                                                          j.r.r. tolkien's the fellowship of the ring   \n",
       "152938                                           the fellowship of the ring (the lord of the rings, part 1)   \n",
       "159987                                           the fellowship of the ring (the lord of the rings, part 1)   \n",
       "187904                                           the fellowship of the ring (the lord of the rings, book 1)   \n",
       "209402                                           the fellowship of the ring (lord of the rings (paperback))   \n",
       "266282                                           the fellowship of the ring (the lord of the rings, book 1)   \n",
       "\n",
       "             book_author  year_of_publication                 publisher  \n",
       "1571      j.r.r. tolkien                 1986                   del rey  \n",
       "4514    j. r. r. tolkien                 1988          houghton mifflin  \n",
       "6514    j. r. r. tolkien                 1977                 not avail  \n",
       "12764   j. r. r. tolkien                 1999  houghton mifflin company  \n",
       "15918   j. r. r. tolkien                 2001  houghton mifflin company  \n",
       "16341   j. r. r. tolkien                 1981          ballantine books  \n",
       "29432   j. r. r. tolkien                 1976                 not avail  \n",
       "30095   j. r. r. tolkien                 2002  houghton mifflin company  \n",
       "40724   j. r. r. tolkien                 1988  houghton mifflin company  \n",
       "55114   j. r. r. tolkien                 1985          ballantine books  \n",
       "118588  j. r. r. tolkien                 2002  houghton mifflin company  \n",
       "137387  j. r. r. tolkien                 2003  houghton mifflin company  \n",
       "144281  j. r. r. tolkien                 1967       houghton mifflin co  \n",
       "152920  j. r. r. tolkien                 1985             monarch notes  \n",
       "152938  j. r. r. tolkien                 2002          highbridge audio  \n",
       "159987    j.r.r. tolkien                 2001  houghton mifflin company  \n",
       "187904  j. r. r. tolkien                 2000            recorded books  \n",
       "209402    j.r.r. tolkien                 1999           sagebrush bound  \n",
       "266282  j. r. r. tolkien                 2001            recorded books  "
      ]
     },
     "execution_count": 287,
     "metadata": {},
     "output_type": "execute_result"
    }
   ],
   "source": [
    "pd.set_option('display.max_colwidth', 100)\n",
    "books[books.book_title.str.contains(\"fellowship of the ring\") & books.book_author.str.contains(\"tolkien\")]"
   ]
  },
  {
   "cell_type": "code",
   "execution_count": null,
   "metadata": {},
   "outputs": [],
   "source": []
  },
  {
   "cell_type": "code",
   "execution_count": 288,
   "metadata": {},
   "outputs": [
    {
     "ename": "NameError",
     "evalue": "name 'books_df' is not defined",
     "output_type": "error",
     "traceback": [
      "\u001b[0;31m---------------------------------------------------------------------------\u001b[0m",
      "\u001b[0;31mNameError\u001b[0m                                 Traceback (most recent call last)",
      "\u001b[0;32m/tmp/ipykernel_12204/552472974.py\u001b[0m in \u001b[0;36m<module>\u001b[0;34m\u001b[0m\n\u001b[0;32m----> 1\u001b[0;31m \u001b[0mdf_inner\u001b[0m \u001b[0;34m=\u001b[0m \u001b[0mmerge_df\u001b[0m\u001b[0;34m(\u001b[0m\u001b[0mbooks_df\u001b[0m\u001b[0;34m,\u001b[0m \u001b[0musers_df\u001b[0m\u001b[0;34m,\u001b[0m \u001b[0mratings_df\u001b[0m\u001b[0;34m,\u001b[0m \u001b[0mhow\u001b[0m\u001b[0;34m=\u001b[0m\u001b[0;34m\"inner\"\u001b[0m\u001b[0;34m)\u001b[0m\u001b[0;34m\u001b[0m\u001b[0;34m\u001b[0m\u001b[0m\n\u001b[0m\u001b[1;32m      2\u001b[0m \u001b[0mdf_left\u001b[0m \u001b[0;34m=\u001b[0m \u001b[0mmerge_df\u001b[0m\u001b[0;34m(\u001b[0m\u001b[0mbooks_df\u001b[0m\u001b[0;34m,\u001b[0m \u001b[0musers_df\u001b[0m\u001b[0;34m,\u001b[0m \u001b[0mratings_df\u001b[0m\u001b[0;34m,\u001b[0m \u001b[0mhow\u001b[0m\u001b[0;34m=\u001b[0m\u001b[0;34m\"left\"\u001b[0m\u001b[0;34m)\u001b[0m\u001b[0;34m\u001b[0m\u001b[0;34m\u001b[0m\u001b[0m\n\u001b[1;32m      3\u001b[0m \u001b[0mprint\u001b[0m\u001b[0;34m(\u001b[0m\u001b[0;34mf\"Number of dropped records: {len(df_left) - len(df_inner)}\"\u001b[0m\u001b[0;34m)\u001b[0m\u001b[0;34m\u001b[0m\u001b[0;34m\u001b[0m\u001b[0m\n",
      "\u001b[0;31mNameError\u001b[0m: name 'books_df' is not defined"
     ]
    }
   ],
   "source": [
    "df_inner = merge_df(books_df, users_df, ratings_df, how=\"inner\")\n",
    "df_left = merge_df(books_df, users_df, ratings_df, how=\"left\")\n",
    "print(f\"Number of dropped records: {len(df_left) - len(df_inner)}\")"
   ]
  }
 ],
 "metadata": {
  "interpreter": {
   "hash": "82d1874f8e859916e8aea6696561cf522612c8cda9b2d3f0906ccf3f8108175e"
  },
  "kernelspec": {
   "display_name": "Python 3.9.7 64-bit ('venv': venv)",
   "name": "python3"
  },
  "language_info": {
   "codemirror_mode": {
    "name": "ipython",
    "version": 3
   },
   "file_extension": ".py",
   "mimetype": "text/x-python",
   "name": "python",
   "nbconvert_exporter": "python",
   "pygments_lexer": "ipython3",
   "version": "3.9.7"
  },
  "orig_nbformat": 4
 },
 "nbformat": 4,
 "nbformat_minor": 2
}
